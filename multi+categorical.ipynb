{
  "cells": [
    {
      "cell_type": "markdown",
      "metadata": {},
      "source": [
        "# Week 4\n",
        "\n",
        "## Agenda:\n",
        "\n",
        "1.  Interpretation of regression coefficients\n",
        "2.  Categorical covariates\n",
        "3.  Multiple regression\n",
        "    -   Extension from simple linear regression\n",
        "    -   Other topics\n",
        "\n",
        "## Packages we will require this week"
      ],
      "id": "ecab2ecf-c0ce-4ed0-a917-00c8111ea251"
    },
    {
      "cell_type": "code",
      "execution_count": null,
      "metadata": {
        "hash": "multi+categorical_cache/ipynb/unnamed-chunk-1_12667548dc291ad5cd89b0c897970f56"
      },
      "outputs": [],
      "source": [],
      "id": "409f7c1d-f468-4e02-b43d-0a82029b5e91"
    },
    {
      "cell_type": "markdown",
      "metadata": {},
      "source": [
        "## What is the interpretation of $\\beta_0$ and $\\beta_1$?\n",
        "\n",
        "The regression model is given as follows:\n",
        "\n",
        "$$\n",
        "y_i  = \\beta_0 + \\beta_1 x_i + \\epsilon_i\n",
        "$$\n",
        "\n",
        "where:\n",
        "\n",
        "1.  $y_i$ are the response\n",
        "2.  $x_i$ is the covariate\n",
        "3.  $\\epsilon_i$ is the error (vertical black line in lecture 4 notes)\n",
        "4.  $\\beta_0$ and $\\beta_1$ are the regression coefficients\n",
        "5.  $i = 1, 2, \\dots, n$ are the indices for the observations\n",
        "\n",
        "Can anyone tell me the interpretation for the regression coefficients?\n",
        "\n",
        "$\\beta_0$ is the intercept and $\\beta_1$ is the slope.\n",
        "\n",
        "Let’s consider the following example using `mtcars`"
      ],
      "id": "714cf3b6-3b49-4c7a-82e0-922a994aded3"
    },
    {
      "cell_type": "code",
      "execution_count": null,
      "metadata": {
        "hash": "multi+categorical_cache/ipynb/unnamed-chunk-2_aa95e303f6d6895a87406dd7f00b2712"
      },
      "outputs": [],
      "source": [],
      "id": "be6ad7c0-930c-42cc-a3eb-ede05c8b9c26"
    },
    {
      "cell_type": "markdown",
      "metadata": {},
      "source": [
        "Consider the following relationship"
      ],
      "id": "067a7cf9-a71a-47ef-9aee-2183e2908c61"
    },
    {
      "cell_type": "code",
      "execution_count": null,
      "metadata": {
        "hash": "multi+categorical_cache/ipynb/unnamed-chunk-3_c63d23d603c19230aad3a88ba3bc8c4c"
      },
      "outputs": [],
      "source": [],
      "id": "cbab3e8e-aa1a-4c9d-be6c-efe1ccbb21ac"
    },
    {
      "cell_type": "markdown",
      "metadata": {},
      "source": [
        "For the intercept this means that:\n",
        "\n",
        "> A “hypothetical” car with `hp=0` will have `mpg = 30.09` = $\\beta_0$\n",
        "\n",
        "It’s more interesting and instructive to consider the interpretation of\n",
        "the slope:\n",
        "\n",
        "Let’s say we have some covariate $x_0$ then the expected value for\n",
        "$y(x_0)$ is given by\n",
        "\n",
        "$$y(x_0) = \\beta_0 + \\beta_1 x_0$$\n",
        "\n",
        "What’s the expected value for $x_0 + 1$?\n",
        "\n",
        "$$\n",
        "\\begin{align}\n",
        "y(x_0 + 1) &= \\beta_0 + \\beta_1 \\times (x_0 + 1)\\\\ \\\\\n",
        "&= \\beta_0 + \\beta_1 x_0 + \\beta_1\\\\ \\\\\n",
        "&= y(x_0) + \\beta_1\\\\ \\\\\n",
        "\\implies \\beta_1 &= y(x_0 + 1) - y(x_0)\n",
        "\\end{align}\n",
        "$$\n",
        "\n",
        "<br><br><br><br><br><br>\n",
        "\n",
        "------------------------------------------------------------------------\n",
        "\n",
        "## Categorical covariates\n",
        "\n",
        "Up until now, we have looked at *simple* linear regression models where\n",
        "both $x$ and $y$ are quantitative.\n",
        "\n",
        "Let’s confirm that `cyl` is indeed categorical:"
      ],
      "id": "1faaa952-bae9-4157-b153-cc843b26a2ec"
    },
    {
      "cell_type": "code",
      "execution_count": null,
      "metadata": {
        "hash": "multi+categorical_cache/ipynb/unnamed-chunk-4_a484975e944eeed1a9809c71cabba082"
      },
      "outputs": [],
      "source": [],
      "id": "8dffe687-6df5-4a2e-a8c2-ba3b789011ca"
    },
    {
      "cell_type": "markdown",
      "metadata": {},
      "source": [
        "Another example we have is with the iris dataset:"
      ],
      "id": "3e9df9c0-2a7a-4c59-8db1-f6aacad00e9a"
    },
    {
      "cell_type": "code",
      "execution_count": null,
      "metadata": {
        "hash": "multi+categorical_cache/ipynb/unnamed-chunk-5_94afa08a9859db23eab359e64a38cc53"
      },
      "outputs": [],
      "source": [],
      "id": "b77f61ef-fe0a-403c-aedb-2a1dd2178156"
    },
    {
      "cell_type": "markdown",
      "metadata": {},
      "source": [
        "Let’s consider the following example:\n",
        "\n",
        "We want to see if there is a relationship between `species` and\n",
        "`sepal.length`. How would we start the EDA?"
      ],
      "id": "a90cd540-bf6d-400c-af3f-c24af23ff4fe"
    },
    {
      "cell_type": "code",
      "execution_count": null,
      "metadata": {
        "hash": "multi+categorical_cache/ipynb/unnamed-chunk-6_21e49e1af6182a1643a48a34e578d05c"
      },
      "outputs": [],
      "source": [],
      "id": "b06a05e1-9c33-4f9e-a0c9-af03ba7a0fd4"
    },
    {
      "cell_type": "markdown",
      "metadata": {},
      "source": [
        "Let’s just run a linear regression model and see what the model output\n",
        "is going to look like:"
      ],
      "id": "0c6cd130-fb0b-4ee3-9c70-9dc48a82724e"
    },
    {
      "cell_type": "code",
      "execution_count": null,
      "metadata": {
        "hash": "multi+categorical_cache/ipynb/unnamed-chunk-7_32f35bc3b1fec1a7321a13d18896eb4f"
      },
      "outputs": [],
      "source": [],
      "id": "6ac736f3-e237-4e3f-82c4-e2bea2034779"
    },
    {
      "cell_type": "markdown",
      "metadata": {},
      "source": [
        "Even if $x$ is categorical, we can still write down the regression model\n",
        "as follows:\n",
        "\n",
        "$$\n",
        "y_i = \\beta_0 + \\beta_1 x_i\n",
        "$$\n",
        "\n",
        "where $x_i \\in \\{ setosa, \\ versicolor, \\ virginica \\}$. This means that\n",
        "we end up with, (fundamentally) three different models\n",
        "\n",
        "1.  $y_i = \\beta_0 + \\beta \\times \\mathbf{1}(x_i = \\texttt{setosa})$\n",
        "2.  $y_i = \\beta_0 + \\beta \\times \\mathbf{1}(x_i = \\texttt{versicolor})$\n",
        "3.  $y_i = \\beta_0 + \\beta \\times \\mathbf{1}(x_i = \\texttt{virginica})$\n",
        "\n",
        "Now, the interpretation for the coefficients are as follows:\n",
        "\n",
        "##### Intercept\n",
        "\n",
        "$\\beta_0$ is the expected $y$ value when $x$ belongs to the base\n",
        "category. This is what the intercept is capturing.\n",
        "\n",
        "##### Slopes\n",
        "\n",
        "$\\beta_1$ with the name `Species.versicolor` represents the following\n",
        "\n",
        "`(Intercept)` = $y(x = \\texttt{setosa})$\n",
        "\n",
        "`Species.versicolor` =\n",
        "$y(x = \\texttt{versicolor}) - y(x = \\texttt{setosa})$\n",
        "\n",
        "`Species.virginica` =\n",
        "$y(x = \\texttt{virginica}) - y(x = \\texttt{setosa})$\n",
        "\n",
        "### Reordering the factors\n",
        "\n",
        "Let’s say that we didn’t want `setosa` to be the baseline level, and,\n",
        "instead, we wanted `virginica` to be the baseline level. How would we do\n",
        "this?\n",
        "\n",
        "First, we’re going to reorder/relevel the categorical covariate"
      ],
      "id": "c153b15e-8344-4e68-a40b-019bdda17fac"
    },
    {
      "cell_type": "code",
      "execution_count": null,
      "metadata": {
        "hash": "multi+categorical_cache/ipynb/unnamed-chunk-8_235196bc865fd0598df15f3b95b8c2d4"
      },
      "outputs": [],
      "source": [],
      "id": "373d3816-56ef-439c-bf43-ca109f543316"
    },
    {
      "cell_type": "markdown",
      "metadata": {},
      "source": [
        "Once we do the releveling, we can now run the regression model:"
      ],
      "id": "a175ecee-1ffa-4411-9625-7dcd0add902e"
    },
    {
      "cell_type": "code",
      "execution_count": null,
      "metadata": {
        "hash": "multi+categorical_cache/ipynb/unnamed-chunk-9_cd9ccde88f027b62b8c1544291c3a045"
      },
      "outputs": [],
      "source": [],
      "id": "d5ddf9e0-7cd0-42d3-ae33-7928dbffc218"
    },
    {
      "cell_type": "markdown",
      "metadata": {},
      "source": [
        "<br><br><br><br><br><br>"
      ],
      "id": "0d01fe66-3459-4496-bb21-bafeb3ea064e"
    },
    {
      "cell_type": "code",
      "execution_count": null,
      "metadata": {
        "hash": "multi+categorical_cache/ipynb/unnamed-chunk-10_4af325da3fe313f703aedb398d6cae51"
      },
      "outputs": [],
      "source": [],
      "id": "ad42f6b3-d662-46f9-96ff-a3d53e1d6b1d"
    },
    {
      "cell_type": "markdown",
      "metadata": {},
      "source": [
        "## Multiple Regression\n",
        "\n",
        "This is the extension of simple linear regression to multiple covariates\n",
        "$X = [x_1 | x_2 | \\dots | x_p]$, i.e.,\n",
        "\n",
        "$$\n",
        "y = \\beta_0 + \\beta_1 x_1 + \\beta_2 x_2 + \\dots \\beta_p x_p + \\epsilon\n",
        "$$\n",
        "\n",
        "In particular, the data looks like the following:\n",
        "\n",
        "| $\\mathbf y$ | $\\mathbf x_1$ | $\\mathbf x_2$ | $\\dots$  | $\\mathbf x_p$ |\n",
        "|:------------|:--------------|:--------------|:---------|:--------------|\n",
        "| $y_{1}$     | $x_{1,1}$     | $x_{2,1}$     | ${...}$  | $x_{p,1}$     |\n",
        "| $y_{2}$     | $x_{1,2}$     | $x_{2,2}$     | ${...}$  | $x_{p,2}$     |\n",
        "| $y_{3}$     | $x_{1,3}$     | $x_{2,3}$     | ${...}$  | $x_{p,3}$     |\n",
        "| ${\\vdots}$  | ${\\vdots}$    | ${\\vdots}$    | $\\ddots$ | $\\vdots$      |\n",
        "| $y_{n}$     | $x_{1,n}$     | $x_{2,n}$     | ${...}$  | $x_{p,n}$     |\n",
        "\n",
        "and, the full description of the model is as follows:\n",
        "\n",
        "$$\n",
        "y_i = \\beta_0 + \\beta_1 x_{1, i} + \\beta_2 x_{2, i} + \\dots + \\beta_p x_{p, i} + \\epsilon_i,\n",
        "$$\n",
        "\n",
        "Consider the `Credit` dataset"
      ],
      "id": "d73cc44c-d5ba-46ff-84fb-870e7bd1287b"
    },
    {
      "cell_type": "code",
      "execution_count": null,
      "metadata": {
        "hash": "multi+categorical_cache/ipynb/unnamed-chunk-11_fb941f62fe55b66ac6f13d2f3130cebd"
      },
      "outputs": [],
      "source": [],
      "id": "ef6086ad-d36e-4b66-a679-080453511a2d"
    },
    {
      "cell_type": "markdown",
      "metadata": {},
      "source": [
        "and, we’ll look at the following three columns: `income, rating, limit`."
      ],
      "id": "e7cbb9d6-08b2-4e5a-906e-b920055f45a6"
    },
    {
      "cell_type": "code",
      "execution_count": null,
      "metadata": {
        "hash": "multi+categorical_cache/ipynb/unnamed-chunk-12_7c5e44c31c3bb8a7ad2bad9b4758e9f0"
      },
      "outputs": [],
      "source": [],
      "id": "6b7a8d0d-bbc3-47b8-953b-0ec01c7ff53b"
    },
    {
      "cell_type": "markdown",
      "metadata": {},
      "source": [
        "If we want to see how the credit limit is related to income and credit\n",
        "rating, we can visualize the following plot"
      ],
      "id": "e6846a3d-9dfd-496f-8181-8f76bac9d868"
    },
    {
      "cell_type": "code",
      "execution_count": null,
      "metadata": {
        "hash": "multi+categorical_cache/ipynb/unnamed-chunk-13_448f9dcb641ac271effbc5cb20b1cdde"
      },
      "outputs": [],
      "source": [],
      "id": "7536254b-d396-4348-a93c-df9ad493bb6d"
    },
    {
      "cell_type": "markdown",
      "metadata": {},
      "source": [
        "The regression model is as follows:"
      ],
      "id": "9ea83dc3-7791-40c8-96cc-831d1a25d6a9"
    },
    {
      "cell_type": "code",
      "execution_count": null,
      "metadata": {
        "hash": "multi+categorical_cache/ipynb/unnamed-chunk-14_1e74a8516d9dd411aa6a07efaef6b6d3"
      },
      "outputs": [],
      "source": [],
      "id": "10b0dc2c-5747-433a-8a2f-c4d241f2906a"
    },
    {
      "cell_type": "markdown",
      "metadata": {},
      "source": [
        "What does the regression model look like here?"
      ],
      "id": "cda940ad-bfce-4f33-8f6f-9821cad721ef"
    },
    {
      "cell_type": "code",
      "execution_count": null,
      "metadata": {
        "hash": "multi+categorical_cache/ipynb/unnamed-chunk-15_0d496474be62e37d75e2e6cff51ba54d"
      },
      "outputs": [],
      "source": [],
      "id": "afea3f7a-0b85-4af5-a61a-ea2972501507"
    },
    {
      "cell_type": "markdown",
      "metadata": {},
      "source": [
        "What is the interpretation for the coefficients?\n",
        "\n",
        "1.  $\\beta_0$ is the expected value of $y$ when $income = 0$ and\n",
        "    $rating = 0$\n",
        "\n",
        "2.  $\\beta_1$ is saying that if $rating$ is held constant and $income$\n",
        "    changes by 1 unit, then the corresponding change in the `limit` is\n",
        "    $0.5573$\n",
        "\n",
        "3.  $\\beta_2$ is saying that if `income` is held constant and `rating`\n",
        "    changes by $1$ unit, then the corresponding change in `limit` is\n",
        "    $14.771$\n",
        "\n",
        "What about the significance?"
      ],
      "id": "b61b596f-6be8-46be-abcd-d5ebb4576311"
    },
    {
      "cell_type": "code",
      "execution_count": null,
      "metadata": {
        "hash": "multi+categorical_cache/ipynb/unnamed-chunk-16_6b92e7ea6aa6616d990a9465f247a104"
      },
      "outputs": [],
      "source": [],
      "id": "51f11fc4-308a-401f-8505-017b72bd54c8"
    }
  ],
  "nbformat": 4,
  "nbformat_minor": 5,
  "metadata": {
    "kernelspec": {
      "display_name": "Python 3",
      "language": "python",
      "name": "python3"
    }
  }
}