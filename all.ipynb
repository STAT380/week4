{
  "cells": [
    {
      "cell_type": "markdown",
      "id": "811fbcd3-44c9-437d-8818-ee460d52c4e8",
      "metadata": {},
      "source": [
        "# Visualization, Data Wrangling and Modeling\n",
        "\n",
        "## Visualization\n",
        "\n",
        "## Front Matter"
      ]
    },
    {
      "cell_type": "code",
      "execution_count": null,
      "id": "9c1a4bc6-19e8-4905-8778-083330d75aeb",
      "metadata": {},
      "outputs": [],
      "source": []
    },
    {
      "cell_type": "markdown",
      "id": "17bccb52-4dc8-4eff-a538-a2e8b0c2b8c6",
      "metadata": {},
      "source": [
        "## Example 1 \n",
        "\n",
        "Avoid displaying full datasets in your Markdown document because it is\n",
        "difficult to read.\n"
      ]
    },
    {
      "cell_type": "code",
      "execution_count": null,
      "id": "a2206688-9d8c-48ce-867a-a22f9d86c5b7",
      "metadata": {},
      "outputs": [],
      "source": [
        "# iris a a built in dataset containing info on a sample of iris flowers"
      ]
    },
    {
      "cell_type": "markdown",
      "id": "b5e977c1-cd67-4221-8479-0af335a7f620",
      "metadata": {},
      "source": [
        "Instead, use a function (such as head, glimpse (from dplyr), str, etc.)\n",
        "that only shows a preview/summary of the dataset."
      ]
    },
    {
      "cell_type": "code",
      "execution_count": null,
      "id": "7cdb7a10-7e66-41a6-9d7f-3e42a2d1ddb8",
      "metadata": {},
      "outputs": [],
      "source": []
    },
    {
      "cell_type": "markdown",
      "id": "4f09913f-a550-4667-b0cb-79bb5a43e57d",
      "metadata": {},
      "source": [
        "## Example 2 - Common Visualizations\n",
        "\n",
        "The following illustrates some common types of plots and the\n",
        "corresponding code. The examples require the `dplyr` and `ggplot2`\n",
        "libraries, both of which are loaded as part of the `tidyverse`. The\n",
        "examples also `penguins` data set from the `palmerpenguins` library."
      ]
    },
    {
      "cell_type": "code",
      "execution_count": null,
      "id": "6b7b6ac3-c4e5-4a09-80d5-3de253a678c3",
      "metadata": {},
      "outputs": [],
      "source": [
        "#Bar Plot\n",
        "\n",
        "#NOTE: Inside aes(), no y axis is specified. This is because the y axis is not a variable contained in the dataset. In a bar plot, the y axis is the count which is determined by the geom_bar procedure"
      ]
    },
    {
      "cell_type": "code",
      "execution_count": null,
      "id": "68ef91e3-c047-48a4-94c8-f4928a6b30e2",
      "metadata": {},
      "outputs": [],
      "source": [
        "#Histogram\n",
        "\n",
        "#NOTE: Inside aes(), no y axis is specified. This is because the y axis is not a variable contained in the dataset. In a histogram, the y axis is the count which is determined by the geom_histogram procedure"
      ]
    },
    {
      "cell_type": "code",
      "execution_count": null,
      "id": "fb92f34f-6986-47de-a1f3-e70acc5e60ea",
      "metadata": {},
      "outputs": [],
      "source": [
        "#Density Plot"
      ]
    },
    {
      "cell_type": "code",
      "execution_count": null,
      "id": "071a3a45-a466-4ad8-b5bf-87e086b05645",
      "metadata": {},
      "outputs": [],
      "source": [
        "#Scatterplot"
      ]
    },
    {
      "cell_type": "code",
      "execution_count": null,
      "id": "f4622533-ecea-4766-a0be-a8205731f3e6",
      "metadata": {},
      "outputs": [],
      "source": [
        "#Side by side boxplots"
      ]
    },
    {
      "cell_type": "markdown",
      "id": "3e2fd00f-f7d3-47c3-9484-21c971c74454",
      "metadata": {},
      "source": [
        "## Example 3 - Loading and previewing a dataset from a package"
      ]
    },
    {
      "cell_type": "code",
      "execution_count": null,
      "id": "47b38c61-dbc5-44f7-8725-eeff22b528dc",
      "metadata": {},
      "outputs": [],
      "source": []
    },
    {
      "cell_type": "markdown",
      "id": "8ac63268-b0f7-4670-9374-80ea08fe07d8",
      "metadata": {},
      "source": [
        "## Example 4 - Layers of ggplot demonstration\n",
        "\n",
        "## Example 5 - Using aesthetics\n",
        "\n",
        "## Example 6 - Faceting using two categorical variables"
      ]
    },
    {
      "cell_type": "code",
      "execution_count": null,
      "id": "803f87b3-01f1-476e-858a-255b71028d8b",
      "metadata": {},
      "outputs": [],
      "source": []
    },
    {
      "cell_type": "markdown",
      "id": "7cbe9452-9af6-49d5-aa86-03456601be16",
      "metadata": {},
      "source": [
        "## Example 7 - Faceting using one categorical variable\n",
        "\n",
        "## Example 8 - Boxplots\n",
        "\n",
        "### Data Manipulation"
      ]
    },
    {
      "cell_type": "code",
      "execution_count": null,
      "id": "9157d4ce-0198-4d0e-9386-00004093b903",
      "metadata": {},
      "outputs": [],
      "source": [
        "#Remove all objects from Environment\n",
        "remove(list = ls()) #CAUTION: This deletes everything in the environment"
      ]
    },
    {
      "cell_type": "markdown",
      "id": "d654ebd8-7ccb-4033-8f23-b6c7958c51ff",
      "metadata": {},
      "source": [
        "## Example 1 - Supporting data visualization with numerical summaries\n",
        "\n",
        "#### Example 1 - Incorrect code"
      ]
    },
    {
      "cell_type": "code",
      "execution_count": null,
      "id": "4c85af17-7df2-44e5-829b-7b36eb3d6747",
      "metadata": {},
      "outputs": [],
      "source": []
    },
    {
      "cell_type": "markdown",
      "id": "1c26b2a5-2bc1-4f6a-9995-fa4271a4e7ae",
      "metadata": {},
      "source": [
        "#### Example 1 - Corrected code"
      ]
    },
    {
      "cell_type": "code",
      "execution_count": null,
      "id": "7b576d8a-eb68-450e-bbf8-c426fe7aa198",
      "metadata": {},
      "outputs": [],
      "source": []
    },
    {
      "cell_type": "markdown",
      "id": "e1d2def8-82e1-4025-ac0a-012a1c4582dd",
      "metadata": {},
      "source": [
        "## Example 2 - Alternative method for finding the summary statistics"
      ]
    },
    {
      "cell_type": "code",
      "execution_count": null,
      "id": "ce35284a-ff6f-481d-a49c-b876ed367375",
      "metadata": {},
      "outputs": [],
      "source": [
        "#Alternative Method\n",
        "\n",
        "#Create dataset for each species and calculate values; repeat for each species"
      ]
    },
    {
      "cell_type": "markdown",
      "id": "ed3c971b-f59d-4602-97ed-c8c7d0d2a94c",
      "metadata": {},
      "source": [
        "## Example 5 - dplyr and ggplot practice in R\n",
        "\n",
        "#### Example 5 Part a"
      ]
    },
    {
      "cell_type": "code",
      "execution_count": null,
      "id": "585c2041-1513-4b76-88c8-030884fa18ae",
      "metadata": {},
      "outputs": [],
      "source": [
        "#Calculate medical charges by region for smokers over 40"
      ]
    },
    {
      "cell_type": "code",
      "execution_count": null,
      "id": "9ec238b6-2900-4b5e-8c2d-bdf168812bb7",
      "metadata": {},
      "outputs": [],
      "source": [
        "#Create data frames required for the plot"
      ]
    },
    {
      "cell_type": "code",
      "execution_count": null,
      "id": "cb80b562-2f5b-43d1-888b-14d6b05ef1ed",
      "metadata": {},
      "outputs": [],
      "source": [
        "#Create visualization"
      ]
    },
    {
      "cell_type": "markdown",
      "id": "c39a9123-c8b8-4d58-9a41-a9e31a2276bc",
      "metadata": {},
      "source": [
        "#### Example 5 Part b"
      ]
    },
    {
      "cell_type": "code",
      "execution_count": null,
      "id": "abe45993-8cf0-42fb-8791-a4892e4cf797",
      "metadata": {},
      "outputs": [],
      "source": [
        "#Creating Obesity Classification variable"
      ]
    },
    {
      "cell_type": "markdown",
      "id": "287648ca-9f32-4165-920b-37378c54925c",
      "metadata": {},
      "source": [
        "Some observation:\n",
        "\n",
        "-   Smokers appear to have higher charges than non-smokers\n",
        "\n",
        "-   For non-smokers, there does not appear to be much of a difference in\n",
        "    the charges for those who are obese or not\n",
        "\n",
        "-   For smokers, being obese is associated with higher charges. Note,\n",
        "    this is not suggesting that being obese CAUSES higher charges\n",
        "\n",
        "## Example 6 - A note about masking\n",
        "\n",
        "#### Example 6c\n",
        "\n",
        "Add `Hmisc` library to front matter. Then run the code provided below."
      ]
    },
    {
      "cell_type": "code",
      "execution_count": null,
      "id": "4b3f32f0-d524-4a00-884e-6bb4b52b8f2e",
      "metadata": {},
      "outputs": [],
      "source": []
    },
    {
      "cell_type": "markdown",
      "id": "15aeee5b-7eb6-4790-85a2-b39ad4dbf7f2",
      "metadata": {},
      "source": [
        "## Another Example"
      ]
    },
    {
      "cell_type": "code",
      "execution_count": null,
      "id": "bcf9535a-da3e-43ea-9c59-fe3e911b6306",
      "metadata": {},
      "outputs": [
        {
          "name": "stderr",
          "output_type": "stream",
          "text": [
            "── Attaching core tidyverse packages ──────────────────────── tidyverse 2.0.0 ──\n",
            "✔ dplyr     1.1.2     ✔ readr     2.1.4\n",
            "✔ forcats   1.0.0     ✔ stringr   1.5.0\n",
            "✔ ggplot2   3.4.3     ✔ tibble    3.2.1\n",
            "✔ lubridate 1.9.2     ✔ tidyr     1.3.0\n",
            "✔ purrr     1.0.2     \n",
            "── Conflicts ────────────────────────────────────────── tidyverse_conflicts() ──\n",
            "✖ dplyr::filter() masks stats::filter()\n",
            "✖ dplyr::lag()    masks stats::lag()\n",
            "ℹ Use the conflicted package (<http://conflicted.r-lib.org/>) to force all conflicts to become errors"
          ]
        }
      ],
      "source": [
        "rm(list = ls()) #CAUTION: Removes all objects in your environment\n",
        "library(tidyverse)"
      ]
    },
    {
      "cell_type": "markdown",
      "id": "c43d35ac-9c52-4eb2-addd-8082ec32535f",
      "metadata": {},
      "source": [
        "## Example 2 Part c - Creating Superhero and Publisher Datasets"
      ]
    },
    {
      "cell_type": "code",
      "execution_count": null,
      "id": "2e30dd39-a259-459e-a70f-c07e5fc238c9",
      "metadata": {},
      "outputs": [],
      "source": [
        "#Create superheroes table (requires tibble package)\n",
        "superheroes <- tibble::tribble(\n",
        "  ~name, ~alignment, ~gender, ~publisher,\n",
        "  \"Magneto\", \"bad\", \"male\", \"Marvel\",\n",
        "  \"Storm\", \"good\", \"female\", \"Marvel\",\n",
        "  \"Mystique\", \"bad\", \"female\", \"Marvel\",\n",
        "  \"Batman\", \"good\", \"male\", \"DC\",\n",
        "  \"Joker\", \"bad\", \"male\", \"DC\",\n",
        "  \"Catwoman\", \"bad\", \"female\", \"DC\",\n",
        "  \"Hellboy\", \"good\", \"male\", \"Dark Horse Comics\"\n",
        ")\n",
        "\n",
        "#Create publishers table\n",
        "publishers <- tibble::tribble(\n",
        "  ~publisher, ~yr_founded,\n",
        "  \"DC\", 1934,\n",
        "  \"Marvel\", 1939,\n",
        "  \"Image\", 1992\n",
        ")"
      ]
    },
    {
      "cell_type": "markdown",
      "id": "df62518e-6856-4278-8170-a346c244e42c",
      "metadata": {},
      "source": [
        "## Example 2 Part c - Performing join from 2b"
      ]
    },
    {
      "cell_type": "code",
      "execution_count": null,
      "id": "bda7499d-cfaa-4785-904e-aac970508aee",
      "metadata": {},
      "outputs": [],
      "source": []
    },
    {
      "cell_type": "markdown",
      "id": "86c94e65-186c-42a5-921d-4b466856b185",
      "metadata": {},
      "source": [
        "## Example 2d - 1st join"
      ]
    },
    {
      "cell_type": "code",
      "execution_count": null,
      "id": "a00f39a5-b9b6-4ad0-b915-6c27e08de86e",
      "metadata": {},
      "outputs": [],
      "source": []
    },
    {
      "cell_type": "markdown",
      "id": "f112df25-eb19-4268-9f97-0411a1911a87",
      "metadata": {},
      "source": [
        "## Example 2d - second join"
      ]
    },
    {
      "cell_type": "code",
      "execution_count": null,
      "id": "aa4c7be3-f1df-4cae-b953-3aaeb0caac22",
      "metadata": {},
      "outputs": [],
      "source": []
    },
    {
      "cell_type": "markdown",
      "id": "89d0d8a4-2955-4ad8-9ccc-472cf0e7d7a3",
      "metadata": {},
      "source": [
        "## Example 2d - third join"
      ]
    },
    {
      "cell_type": "code",
      "execution_count": null,
      "id": "f275b5c8-a293-4124-80e8-8bba46fbc6c4",
      "metadata": {},
      "outputs": [],
      "source": []
    },
    {
      "cell_type": "markdown",
      "id": "be5f35f4-fef1-41b4-863f-64d89fbcfed0",
      "metadata": {},
      "source": [
        "## Example 3a"
      ]
    },
    {
      "cell_type": "code",
      "execution_count": null,
      "id": "a8008dbd-1cfd-4cbb-9897-b6569a2977ae",
      "metadata": {},
      "outputs": [],
      "source": []
    },
    {
      "cell_type": "markdown",
      "id": "48de80f5-238d-465a-82fe-3982dbc6e437",
      "metadata": {},
      "source": [
        "## Example 3b"
      ]
    },
    {
      "cell_type": "code",
      "execution_count": null,
      "id": "ddbb7a7e-3bf0-462e-b14a-4f3becd487bc",
      "metadata": {},
      "outputs": [],
      "source": []
    },
    {
      "cell_type": "markdown",
      "id": "d25256cd-dd5e-413c-8f9b-8ac27a033692",
      "metadata": {},
      "source": [
        "## Example 3c"
      ]
    },
    {
      "cell_type": "code",
      "execution_count": null,
      "id": "05c72f39-3764-49a3-ae4f-8c518e0714eb",
      "metadata": {},
      "outputs": [],
      "source": []
    },
    {
      "cell_type": "markdown",
      "id": "4ae32c04-209b-4b6c-a44d-b6d6ad0d1bc4",
      "metadata": {},
      "source": [
        "### Regression"
      ]
    },
    {
      "cell_type": "code",
      "execution_count": null,
      "id": "42aec79f-2339-43e8-a7c3-3fa91979041f",
      "metadata": {},
      "outputs": [],
      "source": [
        "#CAUTION: This removes all objects from Environment\n",
        "rm(list = ls())\n",
        "\n",
        "#Add libraries as needed\n",
        "library(tidyverse)\n",
        "\n",
        "#Read in Dataset\n",
        "Vehicles <- read.csv(\"./data/L04_Vehicles_m.csv\", header=FALSE)"
      ]
    },
    {
      "cell_type": "markdown",
      "id": "1669f9d1-fac3-4cb8-a7ef-2c5c36d8181c",
      "metadata": {},
      "source": [
        "## Example 5b - Rename Variables and remove observations with missing values"
      ]
    },
    {
      "cell_type": "code",
      "execution_count": null,
      "id": "0a8160ee-f531-4f18-b002-37cf4f728562",
      "metadata": {},
      "outputs": [],
      "source": []
    },
    {
      "cell_type": "markdown",
      "id": "b587a5b3-2f00-4d3e-92c2-d4fc84f6f3e3",
      "metadata": {},
      "source": [
        "## Example 5c - Which variable is most likely to explain the other?\n",
        "\n",
        "I would expect miles to influence price. We will call miles the\n",
        "explanatory variable (x, input, feature, etc.). The price is the\n",
        "response variable (y, output, taget, response)\n",
        "\n",
        "## Example 5d - Scatterplot Showing Price as a Function of Miles"
      ]
    },
    {
      "cell_type": "code",
      "execution_count": null,
      "id": "95295168-af62-41b9-8d46-36732746603f",
      "metadata": {},
      "outputs": [],
      "source": [
        "#Find correlation between miles and price"
      ]
    },
    {
      "cell_type": "markdown",
      "id": "d1132dc3-0b9c-4d23-9e93-f4aebbf5012d",
      "metadata": {},
      "source": [
        "Observations: - If there was no linear association, I would expect the\n",
        "line to be horizontal - in this case, the weak negative linear\n",
        "association. As miles increases, I would expect price to decrease. The\n",
        "relationship looks weak (the correlation is -0.08)\n",
        "\n",
        "NOTE: The correlation is a number between -1 and +1. The closer the\n",
        "absolute value of the correlation is to 1, the stronger the\n",
        "relationship. When the correlation is close to 0, there is no linear\n",
        "relationship.\n",
        "\n",
        "## Example 5e - What other variables could be used to help explain the variation in price?\n",
        "\n",
        "-   year car was built\n",
        "-   past accidents/history\n",
        "-   brand of car\n",
        "-   number of owners\n",
        "-   model of car\n",
        "-   type of vehicle (car vs truck, 2 dr vs 4 dr, 4wd vs not)\n",
        "-   gas vs electric\n",
        "-   condition of car\n",
        "-   features of the car (ac, sunroof, etc.)\n",
        "\n",
        "## Example 5f - Scatterplot Showing Price as a Function of Miles with Model"
      ]
    },
    {
      "cell_type": "code",
      "execution_count": null,
      "id": "ad40a34f-6d56-4447-b58f-e3216e2ba50d",
      "metadata": {},
      "outputs": [],
      "source": []
    },
    {
      "cell_type": "markdown",
      "id": "3545b381-ece5-4b0f-b83b-1874201ce1f3",
      "metadata": {},
      "source": [
        "Some observations:\n",
        "\n",
        "-   Within each model, there is a negative linear association. As miles\n",
        "    increases, price decreases.\n",
        "-   The rate of change in price with respect to miles (i.e., the slopes)\n",
        "    may be different for the different models. It looks like Camry’s and\n",
        "    Volt’s have similar slopes, but the slope for Tacoma’s may not be as\n",
        "    steep.\n",
        "-   For a given number of miles, Tacoma’s are more expensive than\n",
        "    Camry’s and Camry’s are more expensive than Volt’s.\n",
        "\n",
        "## 5g - Create new dataset for Camry’s only"
      ]
    },
    {
      "cell_type": "code",
      "execution_count": null,
      "id": "32c31483-abff-4d1c-abcd-5bc0f62035ac",
      "metadata": {},
      "outputs": [],
      "source": []
    },
    {
      "cell_type": "markdown",
      "id": "6c87ec6a-4e7c-4051-8dbf-c9e2755d3c84",
      "metadata": {},
      "source": [
        "## 5h - Build Simple Linear Regresssion Model"
      ]
    },
    {
      "cell_type": "code",
      "execution_count": null,
      "id": "22007ce2-9f53-44ae-8b6e-17827c6aa73c",
      "metadata": {},
      "outputs": [],
      "source": []
    },
    {
      "cell_type": "markdown",
      "id": "cd55735f-a132-4217-914a-25ba70323db4",
      "metadata": {},
      "source": [
        "The estimated regression equation is given by:\n",
        "\n",
        "$$\\hat{y}_{i} = a + bx_{i}$$"
      ]
    }
  ],
  "metadata": {
    "kernelspec": {
      "display_name": "Python 3",
      "language": "python",
      "name": "python3"
    }
  },
  "nbformat": 4,
  "nbformat_minor": 5
}
